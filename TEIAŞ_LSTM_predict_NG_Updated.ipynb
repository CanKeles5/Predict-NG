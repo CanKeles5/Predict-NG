{
  "nbformat": 4,
  "nbformat_minor": 0,
  "metadata": {
    "colab": {
      "name": "TEIAŞ-LSTM-predict-NG-Updated",
      "provenance": [],
      "collapsed_sections": [],
      "include_colab_link": true
    },
    "kernelspec": {
      "display_name": "Python 3",
      "name": "python3"
    }
  },
  "cells": [
    {
      "cell_type": "markdown",
      "metadata": {
        "id": "view-in-github",
        "colab_type": "text"
      },
      "source": [
        "<a href=\"https://colab.research.google.com/github/CanKeles5/Predict-NG/blob/main/TEIA%C5%9E_LSTM_predict_NG_Updated.ipynb\" target=\"_parent\"><img src=\"https://colab.research.google.com/assets/colab-badge.svg\" alt=\"Open In Colab\"/></a>"
      ]
    },
    {
      "cell_type": "markdown",
      "metadata": {
        "id": "mTHrr4Jat3NT"
      },
      "source": [
        ""
      ]
    },
    {
      "cell_type": "code",
      "metadata": {
        "id": "4pe94wvjeVIK"
      },
      "source": [
        "import torch\r\n",
        "torch.cuda.is_available()\r\n",
        "if torch.cuda.is_available():\r\n",
        "  dev = \"cuda:0\"\r\n",
        "else:\r\n",
        "  dev = \"cpu\"\r\n",
        "device = torch.device(dev)"
      ],
      "execution_count": 1,
      "outputs": []
    },
    {
      "cell_type": "code",
      "metadata": {
        "colab": {
          "base_uri": "https://localhost:8080/"
        },
        "id": "GLnNKJCleZIW",
        "outputId": "6bf90214-b815-47e8-b74f-b60ca1154099"
      },
      "source": [
        "device"
      ],
      "execution_count": 2,
      "outputs": [
        {
          "output_type": "execute_result",
          "data": {
            "text/plain": [
              "device(type='cpu')"
            ]
          },
          "metadata": {
            "tags": []
          },
          "execution_count": 2
        }
      ]
    },
    {
      "cell_type": "code",
      "metadata": {
        "id": "pQcVLbbQncsR"
      },
      "source": [
        "%matplotlib inline"
      ],
      "execution_count": 3,
      "outputs": []
    },
    {
      "cell_type": "code",
      "metadata": {
        "colab": {
          "base_uri": "https://localhost:8080/"
        },
        "id": "Z5HWJskp1cyP",
        "outputId": "856a7c54-61b6-41e5-8f13-4bfad1b4f1db"
      },
      "source": [
        "! pip install pickle5"
      ],
      "execution_count": 4,
      "outputs": [
        {
          "output_type": "stream",
          "text": [
            "Collecting pickle5\n",
            "\u001b[?25l  Downloading https://files.pythonhosted.org/packages/f7/4c/5c4dd0462c8d3a6bc4af500a6af240763c2ebd1efdc736fc2c946d44b70a/pickle5-0.0.11.tar.gz (132kB)\n",
            "\r\u001b[K     |██▌                             | 10kB 16.5MB/s eta 0:00:01\r\u001b[K     |█████                           | 20kB 8.5MB/s eta 0:00:01\r\u001b[K     |███████▍                        | 30kB 8.0MB/s eta 0:00:01\r\u001b[K     |██████████                      | 40kB 7.0MB/s eta 0:00:01\r\u001b[K     |████████████▍                   | 51kB 4.3MB/s eta 0:00:01\r\u001b[K     |██████████████▉                 | 61kB 4.8MB/s eta 0:00:01\r\u001b[K     |█████████████████▍              | 71kB 4.6MB/s eta 0:00:01\r\u001b[K     |███████████████████▉            | 81kB 4.8MB/s eta 0:00:01\r\u001b[K     |██████████████████████▎         | 92kB 5.1MB/s eta 0:00:01\r\u001b[K     |████████████████████████▉       | 102kB 5.0MB/s eta 0:00:01\r\u001b[K     |███████████████████████████▎    | 112kB 5.0MB/s eta 0:00:01\r\u001b[K     |█████████████████████████████▊  | 122kB 5.0MB/s eta 0:00:01\r\u001b[K     |████████████████████████████████| 133kB 5.0MB/s \n",
            "\u001b[?25hBuilding wheels for collected packages: pickle5\n",
            "  Building wheel for pickle5 (setup.py) ... \u001b[?25l\u001b[?25hdone\n",
            "  Created wheel for pickle5: filename=pickle5-0.0.11-cp37-cp37m-linux_x86_64.whl size=219275 sha256=ad12cd897a928f2f586be3b49d74d7bdbe7cf258d24483b862d1ea10a76a9068\n",
            "  Stored in directory: /root/.cache/pip/wheels/a6/90/95/f889ca4aa8b0e0c7f21c8470b6f5d6032f0390a3a141a9a3bd\n",
            "Successfully built pickle5\n",
            "Installing collected packages: pickle5\n",
            "Successfully installed pickle5-0.0.11\n"
          ],
          "name": "stdout"
        }
      ]
    },
    {
      "cell_type": "code",
      "metadata": {
        "id": "8lgRPeJqndlf"
      },
      "source": [
        "import pickle5\r\n",
        "from math import sqrt\r\n",
        "from datetime import datetime\r\n",
        "from numpy import concatenate\r\n",
        "from matplotlib import pyplot\r\n",
        "from pandas import read_csv\r\n",
        "from pandas import DataFrame\r\n",
        "from pandas import concat\r\n",
        "from sklearn.preprocessing import MinMaxScaler\r\n",
        "from sklearn.preprocessing import LabelEncoder\r\n",
        "from sklearn.metrics import mean_squared_error\r\n",
        "import torch\r\n",
        "import torch.nn as nn\r\n",
        "import torch.nn.functional as F\r\n",
        "import torch.optim as optim"
      ],
      "execution_count": 5,
      "outputs": []
    },
    {
      "cell_type": "code",
      "metadata": {
        "id": "2Yqkf_W_p7h4"
      },
      "source": [
        "with open('/content/20210101-epias-raw.pkl', 'rb') as f:\r\n",
        "    data = pickle5.load(f)"
      ],
      "execution_count": 6,
      "outputs": []
    },
    {
      "cell_type": "markdown",
      "metadata": {
        "id": "vpC0YYEdjJi-"
      },
      "source": [
        "Drop all colums of zeros: df.loc[:, (df != 0).any(axis=0)]\r\n"
      ]
    },
    {
      "cell_type": "code",
      "metadata": {
        "id": "ORkCVX7vil21"
      },
      "source": [
        "new_data = data.loc[:, (data != 0).any(axis=0)] #(index=False)"
      ],
      "execution_count": 7,
      "outputs": []
    },
    {
      "cell_type": "code",
      "metadata": {
        "colab": {
          "base_uri": "https://localhost:8080/"
        },
        "id": "mbxst3Zvw1fv",
        "outputId": "ad8991e9-6629-4bb8-9e2f-98a2ecf6d50a"
      },
      "source": [
        "new_data.shape"
      ],
      "execution_count": 8,
      "outputs": [
        {
          "output_type": "execute_result",
          "data": {
            "text/plain": [
              "(67268, 24)"
            ]
          },
          "metadata": {
            "tags": []
          },
          "execution_count": 8
        }
      ]
    },
    {
      "cell_type": "code",
      "metadata": {
        "id": "AuDrKfwiwxb5"
      },
      "source": [
        "new_data = new_data[0:67268-24*300]"
      ],
      "execution_count": 9,
      "outputs": []
    },
    {
      "cell_type": "code",
      "metadata": {
        "colab": {
          "base_uri": "https://localhost:8080/"
        },
        "id": "9UmvJCg3xO-0",
        "outputId": "45718048-2352-4e84-9e83-a6da4202a0b3"
      },
      "source": [
        "new_data.shape"
      ],
      "execution_count": 10,
      "outputs": [
        {
          "output_type": "execute_result",
          "data": {
            "text/plain": [
              "(60068, 24)"
            ]
          },
          "metadata": {
            "tags": []
          },
          "execution_count": 10
        }
      ]
    },
    {
      "cell_type": "code",
      "metadata": {
        "colab": {
          "base_uri": "https://localhost:8080/",
          "height": 758
        },
        "id": "dFHv6w4mxBcX",
        "outputId": "8a7aca74-75af-4af7-c2e6-20928c025c74"
      },
      "source": [
        "new_data"
      ],
      "execution_count": 11,
      "outputs": [
        {
          "output_type": "execute_result",
          "data": {
            "text/html": [
              "<div>\n",
              "<style scoped>\n",
              "    .dataframe tbody tr th:only-of-type {\n",
              "        vertical-align: middle;\n",
              "    }\n",
              "\n",
              "    .dataframe tbody tr th {\n",
              "        vertical-align: top;\n",
              "    }\n",
              "\n",
              "    .dataframe thead th {\n",
              "        text-align: right;\n",
              "    }\n",
              "</style>\n",
              "<table border=\"1\" class=\"dataframe\">\n",
              "  <thead>\n",
              "    <tr style=\"text-align: right;\">\n",
              "      <th></th>\n",
              "      <th>date</th>\n",
              "      <th>fueloil</th>\n",
              "      <th>blackCoal</th>\n",
              "      <th>lignite</th>\n",
              "      <th>geothermal</th>\n",
              "      <th>naturalGas</th>\n",
              "      <th>river</th>\n",
              "      <th>dammedHydro</th>\n",
              "      <th>lng</th>\n",
              "      <th>biomass</th>\n",
              "      <th>naphta</th>\n",
              "      <th>importCoal</th>\n",
              "      <th>asphaltiteCoal</th>\n",
              "      <th>wind</th>\n",
              "      <th>sun</th>\n",
              "      <th>importExport</th>\n",
              "      <th>total</th>\n",
              "      <th>ltotal</th>\n",
              "      <th>lwind</th>\n",
              "      <th>lbiogas</th>\n",
              "      <th>lcanalType</th>\n",
              "      <th>lbiomass</th>\n",
              "      <th>lsun</th>\n",
              "      <th>lothers</th>\n",
              "    </tr>\n",
              "  </thead>\n",
              "  <tbody>\n",
              "    <tr>\n",
              "      <th>0</th>\n",
              "      <td>2013-05-01 00:00:00</td>\n",
              "      <td>29.2</td>\n",
              "      <td>0.00</td>\n",
              "      <td>551.00</td>\n",
              "      <td>0.00</td>\n",
              "      <td>2326.01</td>\n",
              "      <td>151.49</td>\n",
              "      <td>502.38</td>\n",
              "      <td>9.3</td>\n",
              "      <td>26.35</td>\n",
              "      <td>0.0</td>\n",
              "      <td>1184.00</td>\n",
              "      <td>0.00</td>\n",
              "      <td>2.00</td>\n",
              "      <td>0.0</td>\n",
              "      <td>0.0</td>\n",
              "      <td>4781.73</td>\n",
              "      <td>0.0000</td>\n",
              "      <td>0.0000</td>\n",
              "      <td>0.0000</td>\n",
              "      <td>0.0000</td>\n",
              "      <td>0.0000</td>\n",
              "      <td>0.0000</td>\n",
              "      <td>0.0000</td>\n",
              "    </tr>\n",
              "    <tr>\n",
              "      <th>1</th>\n",
              "      <td>2013-05-01 01:00:00</td>\n",
              "      <td>29.1</td>\n",
              "      <td>0.00</td>\n",
              "      <td>544.00</td>\n",
              "      <td>0.00</td>\n",
              "      <td>2334.78</td>\n",
              "      <td>152.77</td>\n",
              "      <td>441.94</td>\n",
              "      <td>9.3</td>\n",
              "      <td>27.07</td>\n",
              "      <td>0.0</td>\n",
              "      <td>1184.00</td>\n",
              "      <td>0.00</td>\n",
              "      <td>2.00</td>\n",
              "      <td>0.0</td>\n",
              "      <td>0.0</td>\n",
              "      <td>4724.96</td>\n",
              "      <td>0.0000</td>\n",
              "      <td>0.0000</td>\n",
              "      <td>0.0000</td>\n",
              "      <td>0.0000</td>\n",
              "      <td>0.0000</td>\n",
              "      <td>0.0000</td>\n",
              "      <td>0.0000</td>\n",
              "    </tr>\n",
              "    <tr>\n",
              "      <th>2</th>\n",
              "      <td>2013-05-01 02:00:00</td>\n",
              "      <td>29.1</td>\n",
              "      <td>0.00</td>\n",
              "      <td>547.00</td>\n",
              "      <td>0.00</td>\n",
              "      <td>2157.76</td>\n",
              "      <td>151.47</td>\n",
              "      <td>430.19</td>\n",
              "      <td>9.3</td>\n",
              "      <td>26.88</td>\n",
              "      <td>0.0</td>\n",
              "      <td>1185.00</td>\n",
              "      <td>0.00</td>\n",
              "      <td>2.00</td>\n",
              "      <td>0.0</td>\n",
              "      <td>0.0</td>\n",
              "      <td>4538.70</td>\n",
              "      <td>0.0000</td>\n",
              "      <td>0.0000</td>\n",
              "      <td>0.0000</td>\n",
              "      <td>0.0000</td>\n",
              "      <td>0.0000</td>\n",
              "      <td>0.0000</td>\n",
              "      <td>0.0000</td>\n",
              "    </tr>\n",
              "    <tr>\n",
              "      <th>3</th>\n",
              "      <td>2013-05-01 03:00:00</td>\n",
              "      <td>29.0</td>\n",
              "      <td>0.00</td>\n",
              "      <td>547.00</td>\n",
              "      <td>0.00</td>\n",
              "      <td>2084.72</td>\n",
              "      <td>125.83</td>\n",
              "      <td>275.18</td>\n",
              "      <td>9.4</td>\n",
              "      <td>25.67</td>\n",
              "      <td>0.0</td>\n",
              "      <td>1183.00</td>\n",
              "      <td>0.00</td>\n",
              "      <td>1.00</td>\n",
              "      <td>0.0</td>\n",
              "      <td>0.0</td>\n",
              "      <td>4280.80</td>\n",
              "      <td>0.0000</td>\n",
              "      <td>0.0000</td>\n",
              "      <td>0.0000</td>\n",
              "      <td>0.0000</td>\n",
              "      <td>0.0000</td>\n",
              "      <td>0.0000</td>\n",
              "      <td>0.0000</td>\n",
              "    </tr>\n",
              "    <tr>\n",
              "      <th>4</th>\n",
              "      <td>2013-05-01 04:00:00</td>\n",
              "      <td>28.3</td>\n",
              "      <td>0.00</td>\n",
              "      <td>549.00</td>\n",
              "      <td>0.00</td>\n",
              "      <td>2034.68</td>\n",
              "      <td>124.35</td>\n",
              "      <td>271.86</td>\n",
              "      <td>9.4</td>\n",
              "      <td>26.45</td>\n",
              "      <td>0.0</td>\n",
              "      <td>1066.00</td>\n",
              "      <td>0.00</td>\n",
              "      <td>1.00</td>\n",
              "      <td>0.0</td>\n",
              "      <td>0.0</td>\n",
              "      <td>4111.04</td>\n",
              "      <td>0.0000</td>\n",
              "      <td>0.0000</td>\n",
              "      <td>0.0000</td>\n",
              "      <td>0.0000</td>\n",
              "      <td>0.0000</td>\n",
              "      <td>0.0000</td>\n",
              "      <td>0.0000</td>\n",
              "    </tr>\n",
              "    <tr>\n",
              "      <th>...</th>\n",
              "      <td>...</td>\n",
              "      <td>...</td>\n",
              "      <td>...</td>\n",
              "      <td>...</td>\n",
              "      <td>...</td>\n",
              "      <td>...</td>\n",
              "      <td>...</td>\n",
              "      <td>...</td>\n",
              "      <td>...</td>\n",
              "      <td>...</td>\n",
              "      <td>...</td>\n",
              "      <td>...</td>\n",
              "      <td>...</td>\n",
              "      <td>...</td>\n",
              "      <td>...</td>\n",
              "      <td>...</td>\n",
              "      <td>...</td>\n",
              "      <td>...</td>\n",
              "      <td>...</td>\n",
              "      <td>...</td>\n",
              "      <td>...</td>\n",
              "      <td>...</td>\n",
              "      <td>...</td>\n",
              "      <td>...</td>\n",
              "    </tr>\n",
              "    <tr>\n",
              "      <th>60063</th>\n",
              "      <td>2020-03-07 19:00:00</td>\n",
              "      <td>36.1</td>\n",
              "      <td>280.96</td>\n",
              "      <td>4351.81</td>\n",
              "      <td>1085.50</td>\n",
              "      <td>1819.41</td>\n",
              "      <td>4371.78</td>\n",
              "      <td>11958.95</td>\n",
              "      <td>0.0</td>\n",
              "      <td>458.16</td>\n",
              "      <td>0.0</td>\n",
              "      <td>7990.04</td>\n",
              "      <td>339.04</td>\n",
              "      <td>2971.57</td>\n",
              "      <td>0.0</td>\n",
              "      <td>239.0</td>\n",
              "      <td>35902.32</td>\n",
              "      <td>52.2281</td>\n",
              "      <td>13.2950</td>\n",
              "      <td>16.9841</td>\n",
              "      <td>4.1684</td>\n",
              "      <td>14.4191</td>\n",
              "      <td>3.0673</td>\n",
              "      <td>0.2942</td>\n",
              "    </tr>\n",
              "    <tr>\n",
              "      <th>60064</th>\n",
              "      <td>2020-03-07 20:00:00</td>\n",
              "      <td>35.7</td>\n",
              "      <td>285.53</td>\n",
              "      <td>4349.41</td>\n",
              "      <td>1100.85</td>\n",
              "      <td>1809.92</td>\n",
              "      <td>4341.69</td>\n",
              "      <td>11481.08</td>\n",
              "      <td>0.0</td>\n",
              "      <td>459.27</td>\n",
              "      <td>0.0</td>\n",
              "      <td>7983.78</td>\n",
              "      <td>340.02</td>\n",
              "      <td>2968.33</td>\n",
              "      <td>0.0</td>\n",
              "      <td>163.0</td>\n",
              "      <td>35318.58</td>\n",
              "      <td>48.6524</td>\n",
              "      <td>13.1804</td>\n",
              "      <td>16.9642</td>\n",
              "      <td>4.0431</td>\n",
              "      <td>13.9582</td>\n",
              "      <td>0.3931</td>\n",
              "      <td>0.1134</td>\n",
              "    </tr>\n",
              "    <tr>\n",
              "      <th>60065</th>\n",
              "      <td>2020-03-07 21:00:00</td>\n",
              "      <td>36.2</td>\n",
              "      <td>301.52</td>\n",
              "      <td>4360.10</td>\n",
              "      <td>1107.39</td>\n",
              "      <td>1749.12</td>\n",
              "      <td>4336.44</td>\n",
              "      <td>10677.39</td>\n",
              "      <td>0.0</td>\n",
              "      <td>464.02</td>\n",
              "      <td>0.0</td>\n",
              "      <td>7975.81</td>\n",
              "      <td>335.60</td>\n",
              "      <td>3013.95</td>\n",
              "      <td>0.0</td>\n",
              "      <td>169.0</td>\n",
              "      <td>34526.54</td>\n",
              "      <td>48.5306</td>\n",
              "      <td>13.3514</td>\n",
              "      <td>16.9729</td>\n",
              "      <td>3.9932</td>\n",
              "      <td>13.7144</td>\n",
              "      <td>0.3676</td>\n",
              "      <td>0.1311</td>\n",
              "    </tr>\n",
              "    <tr>\n",
              "      <th>60066</th>\n",
              "      <td>2020-03-07 22:00:00</td>\n",
              "      <td>36.4</td>\n",
              "      <td>307.80</td>\n",
              "      <td>4052.46</td>\n",
              "      <td>1115.12</td>\n",
              "      <td>1651.82</td>\n",
              "      <td>4313.39</td>\n",
              "      <td>9225.29</td>\n",
              "      <td>0.0</td>\n",
              "      <td>455.99</td>\n",
              "      <td>0.0</td>\n",
              "      <td>7968.84</td>\n",
              "      <td>335.60</td>\n",
              "      <td>3179.01</td>\n",
              "      <td>0.0</td>\n",
              "      <td>98.0</td>\n",
              "      <td>32739.72</td>\n",
              "      <td>49.5955</td>\n",
              "      <td>14.2639</td>\n",
              "      <td>16.9540</td>\n",
              "      <td>4.1900</td>\n",
              "      <td>13.7055</td>\n",
              "      <td>0.3663</td>\n",
              "      <td>0.1158</td>\n",
              "    </tr>\n",
              "    <tr>\n",
              "      <th>60067</th>\n",
              "      <td>2020-03-07 23:00:00</td>\n",
              "      <td>36.2</td>\n",
              "      <td>299.29</td>\n",
              "      <td>4457.36</td>\n",
              "      <td>1115.47</td>\n",
              "      <td>1470.47</td>\n",
              "      <td>4303.16</td>\n",
              "      <td>8407.34</td>\n",
              "      <td>0.0</td>\n",
              "      <td>460.60</td>\n",
              "      <td>0.0</td>\n",
              "      <td>7973.00</td>\n",
              "      <td>335.60</td>\n",
              "      <td>3264.14</td>\n",
              "      <td>0.0</td>\n",
              "      <td>0.0</td>\n",
              "      <td>32122.63</td>\n",
              "      <td>50.5083</td>\n",
              "      <td>15.0957</td>\n",
              "      <td>16.9546</td>\n",
              "      <td>4.1096</td>\n",
              "      <td>13.8236</td>\n",
              "      <td>0.3657</td>\n",
              "      <td>0.1591</td>\n",
              "    </tr>\n",
              "  </tbody>\n",
              "</table>\n",
              "<p>60068 rows × 24 columns</p>\n",
              "</div>"
            ],
            "text/plain": [
              "                     date  fueloil  blackCoal  ...  lbiomass    lsun  lothers\n",
              "0     2013-05-01 00:00:00     29.2       0.00  ...    0.0000  0.0000   0.0000\n",
              "1     2013-05-01 01:00:00     29.1       0.00  ...    0.0000  0.0000   0.0000\n",
              "2     2013-05-01 02:00:00     29.1       0.00  ...    0.0000  0.0000   0.0000\n",
              "3     2013-05-01 03:00:00     29.0       0.00  ...    0.0000  0.0000   0.0000\n",
              "4     2013-05-01 04:00:00     28.3       0.00  ...    0.0000  0.0000   0.0000\n",
              "...                   ...      ...        ...  ...       ...     ...      ...\n",
              "60063 2020-03-07 19:00:00     36.1     280.96  ...   14.4191  3.0673   0.2942\n",
              "60064 2020-03-07 20:00:00     35.7     285.53  ...   13.9582  0.3931   0.1134\n",
              "60065 2020-03-07 21:00:00     36.2     301.52  ...   13.7144  0.3676   0.1311\n",
              "60066 2020-03-07 22:00:00     36.4     307.80  ...   13.7055  0.3663   0.1158\n",
              "60067 2020-03-07 23:00:00     36.2     299.29  ...   13.8236  0.3657   0.1591\n",
              "\n",
              "[60068 rows x 24 columns]"
            ]
          },
          "metadata": {
            "tags": []
          },
          "execution_count": 11
        }
      ]
    },
    {
      "cell_type": "code",
      "metadata": {
        "id": "Kxm-V3TdUcoN"
      },
      "source": [
        "new_data = new_data.sample(frac = 1) #shuffles the rows."
      ],
      "execution_count": 12,
      "outputs": []
    },
    {
      "cell_type": "code",
      "metadata": {
        "id": "VsnV-rVp4PC7"
      },
      "source": [
        "new_data = new_data.drop(['date', 'ltotal',\t'lwind',\t'lbiogas',\t'lcanalType',\t'lbiomass',\t'lsun',\t'lothers', 'total'], axis=1)"
      ],
      "execution_count": 13,
      "outputs": []
    },
    {
      "cell_type": "code",
      "metadata": {
        "colab": {
          "base_uri": "https://localhost:8080/",
          "height": 422
        },
        "id": "jJDsGIYRELLy",
        "outputId": "1db2a811-f5ba-4cbb-d6d5-5571847a7e0d"
      },
      "source": [
        "new_data"
      ],
      "execution_count": 14,
      "outputs": [
        {
          "output_type": "execute_result",
          "data": {
            "text/html": [
              "<div>\n",
              "<style scoped>\n",
              "    .dataframe tbody tr th:only-of-type {\n",
              "        vertical-align: middle;\n",
              "    }\n",
              "\n",
              "    .dataframe tbody tr th {\n",
              "        vertical-align: top;\n",
              "    }\n",
              "\n",
              "    .dataframe thead th {\n",
              "        text-align: right;\n",
              "    }\n",
              "</style>\n",
              "<table border=\"1\" class=\"dataframe\">\n",
              "  <thead>\n",
              "    <tr style=\"text-align: right;\">\n",
              "      <th></th>\n",
              "      <th>fueloil</th>\n",
              "      <th>blackCoal</th>\n",
              "      <th>lignite</th>\n",
              "      <th>geothermal</th>\n",
              "      <th>naturalGas</th>\n",
              "      <th>river</th>\n",
              "      <th>dammedHydro</th>\n",
              "      <th>lng</th>\n",
              "      <th>biomass</th>\n",
              "      <th>naphta</th>\n",
              "      <th>importCoal</th>\n",
              "      <th>asphaltiteCoal</th>\n",
              "      <th>wind</th>\n",
              "      <th>sun</th>\n",
              "      <th>importExport</th>\n",
              "    </tr>\n",
              "  </thead>\n",
              "  <tbody>\n",
              "    <tr>\n",
              "      <th>13210</th>\n",
              "      <td>237.50</td>\n",
              "      <td>321.00</td>\n",
              "      <td>4187.72</td>\n",
              "      <td>305.20</td>\n",
              "      <td>10989.19</td>\n",
              "      <td>1703.08</td>\n",
              "      <td>1165.54</td>\n",
              "      <td>7.0</td>\n",
              "      <td>116.57</td>\n",
              "      <td>0.0</td>\n",
              "      <td>4770.86</td>\n",
              "      <td>0.00</td>\n",
              "      <td>1656.73</td>\n",
              "      <td>0.00</td>\n",
              "      <td>0.00</td>\n",
              "    </tr>\n",
              "    <tr>\n",
              "      <th>22562</th>\n",
              "      <td>188.40</td>\n",
              "      <td>343.50</td>\n",
              "      <td>3487.32</td>\n",
              "      <td>421.07</td>\n",
              "      <td>9950.62</td>\n",
              "      <td>655.03</td>\n",
              "      <td>2329.28</td>\n",
              "      <td>9.2</td>\n",
              "      <td>142.49</td>\n",
              "      <td>0.0</td>\n",
              "      <td>5325.02</td>\n",
              "      <td>268.68</td>\n",
              "      <td>1535.45</td>\n",
              "      <td>0.00</td>\n",
              "      <td>0.00</td>\n",
              "    </tr>\n",
              "    <tr>\n",
              "      <th>49244</th>\n",
              "      <td>225.00</td>\n",
              "      <td>368.00</td>\n",
              "      <td>5370.46</td>\n",
              "      <td>854.37</td>\n",
              "      <td>10495.30</td>\n",
              "      <td>2699.17</td>\n",
              "      <td>2731.69</td>\n",
              "      <td>0.0</td>\n",
              "      <td>309.24</td>\n",
              "      <td>0.0</td>\n",
              "      <td>7768.14</td>\n",
              "      <td>362.10</td>\n",
              "      <td>1182.06</td>\n",
              "      <td>0.00</td>\n",
              "      <td>-397.28</td>\n",
              "    </tr>\n",
              "    <tr>\n",
              "      <th>26837</th>\n",
              "      <td>250.87</td>\n",
              "      <td>198.50</td>\n",
              "      <td>4109.11</td>\n",
              "      <td>497.02</td>\n",
              "      <td>8700.53</td>\n",
              "      <td>3736.65</td>\n",
              "      <td>7919.02</td>\n",
              "      <td>9.2</td>\n",
              "      <td>171.29</td>\n",
              "      <td>0.0</td>\n",
              "      <td>5442.18</td>\n",
              "      <td>269.36</td>\n",
              "      <td>1227.12</td>\n",
              "      <td>0.00</td>\n",
              "      <td>0.00</td>\n",
              "    </tr>\n",
              "    <tr>\n",
              "      <th>25719</th>\n",
              "      <td>208.24</td>\n",
              "      <td>343.50</td>\n",
              "      <td>2924.84</td>\n",
              "      <td>452.05</td>\n",
              "      <td>11407.07</td>\n",
              "      <td>3693.31</td>\n",
              "      <td>7675.70</td>\n",
              "      <td>8.7</td>\n",
              "      <td>173.82</td>\n",
              "      <td>0.0</td>\n",
              "      <td>4128.28</td>\n",
              "      <td>404.05</td>\n",
              "      <td>511.91</td>\n",
              "      <td>0.00</td>\n",
              "      <td>0.00</td>\n",
              "    </tr>\n",
              "    <tr>\n",
              "      <th>...</th>\n",
              "      <td>...</td>\n",
              "      <td>...</td>\n",
              "      <td>...</td>\n",
              "      <td>...</td>\n",
              "      <td>...</td>\n",
              "      <td>...</td>\n",
              "      <td>...</td>\n",
              "      <td>...</td>\n",
              "      <td>...</td>\n",
              "      <td>...</td>\n",
              "      <td>...</td>\n",
              "      <td>...</td>\n",
              "      <td>...</td>\n",
              "      <td>...</td>\n",
              "      <td>...</td>\n",
              "    </tr>\n",
              "    <tr>\n",
              "      <th>28815</th>\n",
              "      <td>189.30</td>\n",
              "      <td>340.50</td>\n",
              "      <td>4318.79</td>\n",
              "      <td>459.89</td>\n",
              "      <td>11460.96</td>\n",
              "      <td>1172.21</td>\n",
              "      <td>6351.78</td>\n",
              "      <td>8.7</td>\n",
              "      <td>174.97</td>\n",
              "      <td>0.0</td>\n",
              "      <td>5176.45</td>\n",
              "      <td>86.11</td>\n",
              "      <td>4026.36</td>\n",
              "      <td>0.00</td>\n",
              "      <td>0.00</td>\n",
              "    </tr>\n",
              "    <tr>\n",
              "      <th>16329</th>\n",
              "      <td>294.80</td>\n",
              "      <td>346.50</td>\n",
              "      <td>3662.79</td>\n",
              "      <td>340.19</td>\n",
              "      <td>13225.50</td>\n",
              "      <td>3996.05</td>\n",
              "      <td>6368.00</td>\n",
              "      <td>9.6</td>\n",
              "      <td>137.62</td>\n",
              "      <td>0.0</td>\n",
              "      <td>5134.90</td>\n",
              "      <td>134.68</td>\n",
              "      <td>605.34</td>\n",
              "      <td>0.00</td>\n",
              "      <td>0.00</td>\n",
              "    </tr>\n",
              "    <tr>\n",
              "      <th>49138</th>\n",
              "      <td>217.80</td>\n",
              "      <td>367.50</td>\n",
              "      <td>4905.53</td>\n",
              "      <td>907.52</td>\n",
              "      <td>10536.87</td>\n",
              "      <td>1971.84</td>\n",
              "      <td>7460.53</td>\n",
              "      <td>0.0</td>\n",
              "      <td>296.76</td>\n",
              "      <td>0.0</td>\n",
              "      <td>7265.69</td>\n",
              "      <td>337.81</td>\n",
              "      <td>535.29</td>\n",
              "      <td>26.13</td>\n",
              "      <td>-365.25</td>\n",
              "    </tr>\n",
              "    <tr>\n",
              "      <th>58984</th>\n",
              "      <td>36.90</td>\n",
              "      <td>270.75</td>\n",
              "      <td>4723.95</td>\n",
              "      <td>1153.48</td>\n",
              "      <td>11270.67</td>\n",
              "      <td>1630.92</td>\n",
              "      <td>9620.23</td>\n",
              "      <td>0.0</td>\n",
              "      <td>420.47</td>\n",
              "      <td>0.0</td>\n",
              "      <td>8474.60</td>\n",
              "      <td>337.81</td>\n",
              "      <td>1724.29</td>\n",
              "      <td>0.00</td>\n",
              "      <td>-267.00</td>\n",
              "    </tr>\n",
              "    <tr>\n",
              "      <th>27836</th>\n",
              "      <td>218.20</td>\n",
              "      <td>208.50</td>\n",
              "      <td>3943.68</td>\n",
              "      <td>439.01</td>\n",
              "      <td>8444.04</td>\n",
              "      <td>2366.11</td>\n",
              "      <td>4977.19</td>\n",
              "      <td>0.0</td>\n",
              "      <td>164.52</td>\n",
              "      <td>0.0</td>\n",
              "      <td>4884.07</td>\n",
              "      <td>390.80</td>\n",
              "      <td>2988.98</td>\n",
              "      <td>0.00</td>\n",
              "      <td>0.00</td>\n",
              "    </tr>\n",
              "  </tbody>\n",
              "</table>\n",
              "<p>60068 rows × 15 columns</p>\n",
              "</div>"
            ],
            "text/plain": [
              "       fueloil  blackCoal  lignite  ...     wind    sun  importExport\n",
              "13210   237.50     321.00  4187.72  ...  1656.73   0.00          0.00\n",
              "22562   188.40     343.50  3487.32  ...  1535.45   0.00          0.00\n",
              "49244   225.00     368.00  5370.46  ...  1182.06   0.00       -397.28\n",
              "26837   250.87     198.50  4109.11  ...  1227.12   0.00          0.00\n",
              "25719   208.24     343.50  2924.84  ...   511.91   0.00          0.00\n",
              "...        ...        ...      ...  ...      ...    ...           ...\n",
              "28815   189.30     340.50  4318.79  ...  4026.36   0.00          0.00\n",
              "16329   294.80     346.50  3662.79  ...   605.34   0.00          0.00\n",
              "49138   217.80     367.50  4905.53  ...   535.29  26.13       -365.25\n",
              "58984    36.90     270.75  4723.95  ...  1724.29   0.00       -267.00\n",
              "27836   218.20     208.50  3943.68  ...  2988.98   0.00          0.00\n",
              "\n",
              "[60068 rows x 15 columns]"
            ]
          },
          "metadata": {
            "tags": []
          },
          "execution_count": 14
        }
      ]
    },
    {
      "cell_type": "code",
      "metadata": {
        "id": "ZRpdxwU3B7Yi"
      },
      "source": [
        "target = new_data.drop(['fueloil',\t'blackCoal',\t'lignite',\t'geothermal',\t'river',\t'dammedHydro',\t'lng',\t'biomass',\t'naphta',\t'importCoal',\t'asphaltiteCoal',\t'wind',\t'sun',\t'importExport'], axis=1)"
      ],
      "execution_count": 15,
      "outputs": []
    },
    {
      "cell_type": "code",
      "metadata": {
        "id": "ygTVHEfcERtq"
      },
      "source": [
        "target = target.to_numpy()"
      ],
      "execution_count": 16,
      "outputs": []
    },
    {
      "cell_type": "code",
      "metadata": {
        "id": "vL3RCqnID6JC"
      },
      "source": [
        "data = new_data.drop(['naturalGas'], axis=1)"
      ],
      "execution_count": 17,
      "outputs": []
    },
    {
      "cell_type": "code",
      "metadata": {
        "id": "C0FCv2jyEV2s"
      },
      "source": [
        "data = data.to_numpy()"
      ],
      "execution_count": 18,
      "outputs": []
    },
    {
      "cell_type": "markdown",
      "metadata": {
        "id": "w_4GBZbldZX-"
      },
      "source": [
        "To-do:\r\n",
        "  Get the data in such a format that it can work with the other notebook.\r\n",
        "  \r\n",
        "  1- Extract the date element.\r\n",
        "\r\n",
        "  2- Normalize all features in the input part of the data.\r\n",
        "\r\n",
        "  3- Create the inputs and the targets.\r\n",
        "\r\n",
        "  4- Create train and test sets.\r\n",
        "\r\n",
        "  5- \r\n",
        "\r\n",
        "  6- "
      ]
    },
    {
      "cell_type": "code",
      "metadata": {
        "colab": {
          "base_uri": "https://localhost:8080/"
        },
        "id": "lz_o3Bf4boM1",
        "outputId": "382160e8-8057-4d3e-cf2e-6db03cb35415"
      },
      "source": [
        "# integer encode direction\r\n",
        "#encoder = LabelEncoder()\r\n",
        "#new_data[:,4] = encoder.fit_transform(new_data[:,4])\r\n",
        "# ensure all data is float\r\n",
        "\r\n",
        "#values = values.astype('float32')\r\n",
        "# normalize features\r\n",
        "scaler = MinMaxScaler(feature_range=(0, 1))\r\n",
        "data = scaler.fit_transform(data)\r\n",
        "target = scaler.fit_transform(target)\r\n",
        "\r\n",
        "print(data.shape)\r\n",
        "print(target.shape)\r\n",
        "#reframed = series_to_supervised(scaled, n_hours, 1)\r\n",
        "#print(reframed.shape)"
      ],
      "execution_count": 19,
      "outputs": [
        {
          "output_type": "stream",
          "text": [
            "(60068, 14)\n",
            "(60068, 1)\n"
          ],
          "name": "stdout"
        }
      ]
    },
    {
      "cell_type": "code",
      "metadata": {
        "id": "kwZivybOFk5-"
      },
      "source": [
        "train_x = data[0:42000]\r\n",
        "train_y = target[0:42000]\r\n",
        "\r\n",
        "val_x = data[42000:54000]\r\n",
        "val_y = target[42000:54000]\r\n",
        "\r\n",
        "test_x = data[54000:60068]\r\n",
        "test_y = target[54000:60068]"
      ],
      "execution_count": 20,
      "outputs": []
    },
    {
      "cell_type": "code",
      "metadata": {
        "id": "Ea0SK1jjxZtk"
      },
      "source": [
        "bs = 128"
      ],
      "execution_count": 29,
      "outputs": []
    },
    {
      "cell_type": "code",
      "metadata": {
        "id": "48mDYPiiJfxt"
      },
      "source": [
        "class LSTM(nn.Module):\r\n",
        "\r\n",
        "  def __init__(self):\r\n",
        "    super(LSTM, self).__init__()\r\n",
        "\r\n",
        "    self.lstm = nn.LSTM(input_size=14, hidden_size=300, num_layers=3)\r\n",
        "    self.FC = nn.Linear(300*bs, bs)\r\n",
        "\r\n",
        "  def forward(self, input):\r\n",
        "    pred, _ = self.lstm(input)\r\n",
        "\r\n",
        "    pred = self.FC(pred.view(300*bs))\r\n",
        "\r\n",
        "    return pred"
      ],
      "execution_count": 50,
      "outputs": []
    },
    {
      "cell_type": "code",
      "metadata": {
        "id": "oF0ge_gOJiTi"
      },
      "source": [
        "model = LSTM().to(device)"
      ],
      "execution_count": 51,
      "outputs": []
    },
    {
      "cell_type": "code",
      "metadata": {
        "colab": {
          "base_uri": "https://localhost:8080/"
        },
        "id": "prdL6nVX5l9u",
        "outputId": "4b3e9692-972d-4714-cc3c-cec3e679bc88"
      },
      "source": [
        "sum(p.numel() for p in model.parameters())"
      ],
      "execution_count": 52,
      "outputs": [
        {
          "output_type": "execute_result",
          "data": {
            "text/plain": [
              "6739328"
            ]
          },
          "metadata": {
            "tags": []
          },
          "execution_count": 52
        }
      ]
    },
    {
      "cell_type": "code",
      "metadata": {
        "id": "7iuxhjBXJiQm"
      },
      "source": [
        "loss_function = nn.L1Loss()\r\n",
        "optimizer = optim.Adam(model.parameters(), lr=1e-5)"
      ],
      "execution_count": 53,
      "outputs": []
    },
    {
      "cell_type": "code",
      "metadata": {
        "id": "YwdaiI0bJiNY"
      },
      "source": [
        "train_loss_hist = []\r\n",
        "val_loss_hist = []"
      ],
      "execution_count": 54,
      "outputs": []
    },
    {
      "cell_type": "code",
      "metadata": {
        "colab": {
          "base_uri": "https://localhost:8080/"
        },
        "id": "70IW6m21JiKJ",
        "outputId": "95088110-9193-4177-c841-570d05886b24"
      },
      "source": [
        "for epoch in range(20):\r\n",
        "  train_loss = 0.0\r\n",
        "  val_loss = 0.0\r\n",
        "\r\n",
        "  for i in range(int(train_x.shape[0]/bs)):\r\n",
        "    data = torch.Tensor(train_x[i*bs: i*bs+bs: ,]).unsqueeze(0) #.unsqueeze(0)    \r\n",
        "    data = data.to(device)\r\n",
        "\r\n",
        "    model.train()\r\n",
        "    optimizer.zero_grad()\r\n",
        "\r\n",
        "    prediction = model(data)\r\n",
        "\r\n",
        "    #print(\"Train --- prediction: \" + str(prediction) + \" , GT: \" + str(train_y[i]))\r\n",
        "\r\n",
        "    loss = loss_function(prediction, torch.Tensor([train_y[i*bs: i*bs+bs : ,]]).to(device))\r\n",
        "\r\n",
        "    train_loss += loss.item()\r\n",
        "\r\n",
        "    loss.backward()\r\n",
        "    optimizer.step()\r\n",
        "  \r\n",
        "  with torch.no_grad():\r\n",
        "    for i in range(int(val_x.shape[0]/bs)):\r\n",
        "      data = torch.Tensor(val_x[i*bs: i*bs+bs: ,]).unsqueeze(0) #.unsqueeze(0)\r\n",
        "      data = data.to(device)\r\n",
        "\r\n",
        "      prediction = model(data)\r\n",
        "\r\n",
        "      #print(\"Validate --- prediction: \" + str(prediction) + \" , GT: \" + str(val_y[i]))\r\n",
        "\r\n",
        "      loss = loss_function(prediction, torch.Tensor([val_y[i*bs: i*bs+bs: ,]]).to(device))\r\n",
        "      val_loss += loss.item()\r\n",
        "\r\n",
        "  train_loss = train_loss / train_x.shape[0]\r\n",
        "  val_loss = val_loss / val_x.shape[0]\r\n",
        "\r\n",
        "  train_loss_hist.append(train_loss)\r\n",
        "  val_loss_hist.append(val_loss)\r\n",
        "  \r\n",
        "  print(\"Epoch \" + str(epoch) + \" ---> Train loss: \" +  str(train_loss) + \" --- Validation loss: \" + str(val_loss))\r\n"
      ],
      "execution_count": 55,
      "outputs": [
        {
          "output_type": "stream",
          "text": [
            "/usr/local/lib/python3.7/dist-packages/torch/nn/modules/loss.py:94: UserWarning: Using a target size (torch.Size([1, 128, 1])) that is different to the input size (torch.Size([128])). This will likely lead to incorrect results due to broadcasting. Please ensure they have the same size.\n",
            "  return F.l1_loss(input, target, reduction=self.reduction)\n"
          ],
          "name": "stderr"
        },
        {
          "output_type": "stream",
          "text": [
            "Epoch 0 ---> Train loss: 0.0014488208950275466 --- Validation loss: 0.0010423953750481208\n",
            "Epoch 1 ---> Train loss: 0.0010429043533901373 --- Validation loss: 0.0010425105908264717\n",
            "Epoch 2 ---> Train loss: 0.0010430290124246052 --- Validation loss: 0.001042417069276174\n",
            "Epoch 3 ---> Train loss: 0.0010430770177571546 --- Validation loss: 0.0010421771655480068\n",
            "Epoch 4 ---> Train loss: 0.0010431449131241867 --- Validation loss: 0.0010421029664576054\n",
            "Epoch 5 ---> Train loss: 0.0010432426739661466 --- Validation loss: 0.0010420597903430461\n",
            "Epoch 6 ---> Train loss: 0.0010432491902084577 --- Validation loss: 0.001042065064733227\n",
            "Epoch 7 ---> Train loss: 0.001043250560050919 --- Validation loss: 0.0010420606049398582\n",
            "Epoch 8 ---> Train loss: 0.0010432779845737275 --- Validation loss: 0.0010420581040283044\n",
            "Epoch 9 ---> Train loss: 0.0010433033239983377 --- Validation loss: 0.0010420688806722562\n",
            "Epoch 10 ---> Train loss: 0.0010433010661176274 --- Validation loss: 0.0010420620286216338\n",
            "Epoch 11 ---> Train loss: 0.0010432861997258095 --- Validation loss: 0.0010420542042702437\n",
            "Epoch 12 ---> Train loss: 0.001043274113464923 --- Validation loss: 0.0010420581325888633\n",
            "Epoch 13 ---> Train loss: 0.001043277235435588 --- Validation loss: 0.0010420591489722331\n",
            "Epoch 14 ---> Train loss: 0.001043277187184209 --- Validation loss: 0.001042060799896717\n",
            "Epoch 15 ---> Train loss: 0.0010432763933425858 --- Validation loss: 0.0010420595022539298\n",
            "Epoch 16 ---> Train loss: 0.0010432728770233335 --- Validation loss: 0.0010420598505685727\n",
            "Epoch 17 ---> Train loss: 0.0010432688655952612 --- Validation loss: 0.0010420561482508976\n",
            "Epoch 18 ---> Train loss: 0.0010432643127583322 --- Validation loss: 0.0010420564295103153\n",
            "Epoch 19 ---> Train loss: 0.0010432614249487719 --- Validation loss: 0.0010420530419796704\n"
          ],
          "name": "stdout"
        }
      ]
    },
    {
      "cell_type": "code",
      "metadata": {
        "id": "V0VMCc4zJiHN",
        "colab": {
          "base_uri": "https://localhost:8080/",
          "height": 282
        },
        "outputId": "7eca48f1-2daa-4cf2-d593-c96db43ad649"
      },
      "source": [
        "pyplot.plot(train_loss_hist)\r\n",
        "pyplot.plot(val_loss_hist)"
      ],
      "execution_count": 56,
      "outputs": [
        {
          "output_type": "execute_result",
          "data": {
            "text/plain": [
              "[<matplotlib.lines.Line2D at 0x7f7026da4890>]"
            ]
          },
          "metadata": {
            "tags": []
          },
          "execution_count": 56
        },
        {
          "output_type": "display_data",
          "data": {
            "image/png": "[encoded data removed]",
            "text/plain": [
              "<Figure size 432x288 with 1 Axes>"
            ]
          },
          "metadata": {
            "tags": [],
            "needs_background": "light"
          }
        }
      ]
    },
    {
      "cell_type": "code",
      "metadata": {
        "id": "B73o-uPcFGAk"
      },
      "source": [
        "max_error = 0.0 #store the maximum difference between ground truth and prediction."
      ],
      "execution_count": 155,
      "outputs": []
    },
    {
      "cell_type": "code",
      "metadata": {
        "id": "NvUkH3WxOFj8"
      },
      "source": [
        "errors = []"
      ],
      "execution_count": 156,
      "outputs": []
    },
    {
      "cell_type": "code",
      "metadata": {
        "id": "6KFvJE4IJjhK"
      },
      "source": [
        "test_loss = 0.0\r\n",
        "\r\n",
        "with torch.no_grad():\r\n",
        "  for i in range(int(test_x.shape[0]/bs)):\r\n",
        "    data = torch.Tensor(test_x[i*bs: i*bs+bs: ,]).unsqueeze(0)#.unsqueeze(0)\r\n",
        "    data = data.to(device)\r\n",
        "\r\n",
        "    prediction = model(data)\r\n",
        "\r\n",
        "    #print(torch.Tensor(test_y[i*bs: i*bs+bs: ,]).squeeze(1).shape)\r\n",
        "\r\n",
        "    abs_diff = torch.abs(torch.sub(prediction, torch.Tensor(test_y[i*bs: i*bs+bs: ,]).squeeze(1)))\r\n",
        "    max_ind =  torch.argmax(abs_diff)\r\n",
        "\r\n",
        "    print(type(abs(prediction[0]-test_y[i*bs: i*bs+bs: ,][0]).item()))\r\n",
        "\r\n",
        "    for j in range(bs):\r\n",
        "      errors.append(abs(prediction[j]-test_y[i*bs: i*bs+bs: ,][j]).item())\r\n",
        "\r\n",
        "\r\n",
        "    if abs_diff[max_ind] > max_error:\r\n",
        "      max_error = abs_diff[max_ind]\r\n",
        "\r\n",
        "    #print(\"Validate --- prediction: \" + str(prediction) + \" , GT: \" + str(val_y[i]))\r\n",
        "\r\n",
        "    loss = loss_function(prediction, torch.Tensor([test_y[i*bs: i*bs+bs: ,]]).to(device))\r\n",
        "    test_loss += loss.item()"
      ],
      "execution_count": null,
      "outputs": []
    },
    {
      "cell_type": "code",
      "metadata": {
        "colab": {
          "base_uri": "https://localhost:8080/"
        },
        "id": "CAC1GNXQPUjB",
        "outputId": "d6154927-b4dc-48ce-d80f-3cfc7a8676ac"
      },
      "source": [
        "test_x.shape"
      ],
      "execution_count": 158,
      "outputs": [
        {
          "output_type": "execute_result",
          "data": {
            "text/plain": [
              "(6068, 14)"
            ]
          },
          "metadata": {
            "tags": []
          },
          "execution_count": 158
        }
      ]
    },
    {
      "cell_type": "code",
      "metadata": {
        "id": "wMNzzBZ6JjeO",
        "colab": {
          "base_uri": "https://localhost:8080/"
        },
        "outputId": "8d075413-ccfc-4410-e09d-55406fe74570"
      },
      "source": [
        "print(\"Test loss is: \" + str(test_loss/test_y.shape[0]))"
      ],
      "execution_count": 159,
      "outputs": [
        {
          "output_type": "stream",
          "text": [
            "Test loss is: 0.0010269698818891396\n"
          ],
          "name": "stdout"
        }
      ]
    },
    {
      "cell_type": "code",
      "metadata": {
        "id": "e2TG7y-XJjbF",
        "colab": {
          "base_uri": "https://localhost:8080/"
        },
        "outputId": "7d789aff-29b4-4f10-d9b5-90a4d443fedc"
      },
      "source": [
        "print(\"Maximum error on test set is: \" + str(max_error))"
      ],
      "execution_count": 160,
      "outputs": [
        {
          "output_type": "stream",
          "text": [
            "Maximum error on test set is: tensor(0.5032)\n"
          ],
          "name": "stdout"
        }
      ]
    },
    {
      "cell_type": "markdown",
      "metadata": {
        "id": "bnZAeh0PO98s"
      },
      "source": [
        ""
      ]
    },
    {
      "cell_type": "code",
      "metadata": {
        "colab": {
          "base_uri": "https://localhost:8080/"
        },
        "id": "6x5KsLHAPncV",
        "outputId": "c5c772c6-1ed1-45ac-8a3b-e75842965891"
      },
      "source": [
        "test_x.shape[0]"
      ],
      "execution_count": 162,
      "outputs": [
        {
          "output_type": "execute_result",
          "data": {
            "text/plain": [
              "6068"
            ]
          },
          "metadata": {
            "tags": []
          },
          "execution_count": 162
        }
      ]
    },
    {
      "cell_type": "code",
      "metadata": {
        "colab": {
          "base_uri": "https://localhost:8080/"
        },
        "id": "CRa21d4YWIb4",
        "outputId": "1311878f-aee1-4b32-8a64-aa0094d38ee7"
      },
      "source": [
        "len(errors)"
      ],
      "execution_count": 173,
      "outputs": [
        {
          "output_type": "execute_result",
          "data": {
            "text/plain": [
              "6016"
            ]
          },
          "metadata": {
            "tags": []
          },
          "execution_count": 173
        }
      ]
    },
    {
      "cell_type": "code",
      "metadata": {
        "colab": {
          "base_uri": "https://localhost:8080/",
          "height": 281
        },
        "id": "5T8Ns7Y2PDOk",
        "outputId": "46bcc8cd-0619-41c6-a5d4-ee50a74a40f6"
      },
      "source": [
        "from matplotlib import pyplot as plt \r\n",
        "\r\n",
        "plt.hist(errors)\r\n",
        "plt.title(\"Errors on test set\")\r\n",
        "plt.show()"
      ],
      "execution_count": 174,
      "outputs": [
        {
          "output_type": "display_data",
          "data": {
            "image/png": "[encoded data removed]",
            "text/plain": [
              "<Figure size 432x288 with 1 Axes>"
            ]
          },
          "metadata": {
            "tags": [],
            "needs_background": "light"
          }
        }
      ]
    },
    {
      "cell_type": "code",
      "metadata": {
        "id": "-Bbk0NGYPiZK"
      },
      "source": [
        ""
      ],
      "execution_count": null,
      "outputs": []
    }
  ]
}