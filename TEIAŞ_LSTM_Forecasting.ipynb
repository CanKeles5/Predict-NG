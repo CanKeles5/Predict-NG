{
  "nbformat": 4,
  "nbformat_minor": 0,
  "metadata": {
    "colab": {
      "name": "TEIAŞ-LSTM-Forecasting.ipynb",
      "provenance": [],
      "collapsed_sections": [],
      "authorship_tag": "ABX9TyMA28T15143iJ2scBULd8tk",
      "include_colab_link": true
    },
    "kernelspec": {
      "display_name": "Python 3",
      "name": "python3"
    }
  },
  "cells": [
    {
      "cell_type": "markdown",
      "metadata": {
        "id": "view-in-github",
        "colab_type": "text"
      },
      "source": [
        "<a href=\"https://colab.research.google.com/github/CanKeles5/Predict-NG/blob/main/TEIA%C5%9E_LSTM_Forecasting.ipynb\" target=\"_parent\"><img src=\"https://colab.research.google.com/assets/colab-badge.svg\" alt=\"Open In Colab\"/></a>"
      ]
    },
    {
      "cell_type": "markdown",
      "metadata": {
        "id": "jCBUJKZURx5H"
      },
      "source": [
        "Forecasting NG production."
      ]
    },
    {
      "cell_type": "code",
      "metadata": {
        "id": "9xbea3NAmubS"
      },
      "source": [
        "import torch\r\n",
        "torch.cuda.is_available()\r\n",
        "if torch.cuda.is_available():\r\n",
        "  dev = \"cuda:0\"\r\n",
        "else:\r\n",
        "  dev = \"cpu\"\r\n",
        "device = torch.device(dev)"
      ],
      "execution_count": null,
      "outputs": []
    },
    {
      "cell_type": "code",
      "metadata": {
        "colab": {
          "base_uri": "https://localhost:8080/"
        },
        "id": "GMjyiJImyxEr",
        "outputId": "2cbe133b-23df-439b-cfb4-40377e0746fc"
      },
      "source": [
        "device"
      ],
      "execution_count": null,
      "outputs": [
        {
          "output_type": "execute_result",
          "data": {
            "text/plain": [
              "device(type='cpu')"
            ]
          },
          "metadata": {
            "tags": []
          },
          "execution_count": 2
        }
      ]
    },
    {
      "cell_type": "code",
      "metadata": {
        "id": "mAYBNSRsyxCN"
      },
      "source": [
        "%matplotlib inline"
      ],
      "execution_count": null,
      "outputs": []
    },
    {
      "cell_type": "code",
      "metadata": {
        "colab": {
          "base_uri": "https://localhost:8080/"
        },
        "id": "JJZyJC4oyw_Z",
        "outputId": "639bc4ce-f20f-4c21-91c5-84a709c59b8f"
      },
      "source": [
        "! pip install pickle5"
      ],
      "execution_count": null,
      "outputs": [
        {
          "output_type": "stream",
          "text": [
            "Collecting pickle5\n",
            "\u001b[?25l  Downloading https://files.pythonhosted.org/packages/f7/4c/5c4dd0462c8d3a6bc4af500a6af240763c2ebd1efdc736fc2c946d44b70a/pickle5-0.0.11.tar.gz (132kB)\n",
            "\r\u001b[K     |██▌                             | 10kB 12.1MB/s eta 0:00:01\r\u001b[K     |█████                           | 20kB 12.3MB/s eta 0:00:01\r\u001b[K     |███████▍                        | 30kB 8.8MB/s eta 0:00:01\r\u001b[K     |██████████                      | 40kB 7.8MB/s eta 0:00:01\r\u001b[K     |████████████▍                   | 51kB 4.5MB/s eta 0:00:01\r\u001b[K     |██████████████▉                 | 61kB 5.0MB/s eta 0:00:01\r\u001b[K     |█████████████████▍              | 71kB 5.1MB/s eta 0:00:01\r\u001b[K     |███████████████████▉            | 81kB 5.2MB/s eta 0:00:01\r\u001b[K     |██████████████████████▎         | 92kB 5.6MB/s eta 0:00:01\r\u001b[K     |████████████████████████▉       | 102kB 5.6MB/s eta 0:00:01\r\u001b[K     |███████████████████████████▎    | 112kB 5.6MB/s eta 0:00:01\r\u001b[K     |█████████████████████████████▊  | 122kB 5.6MB/s eta 0:00:01\r\u001b[K     |████████████████████████████████| 133kB 5.6MB/s \n",
            "\u001b[?25hBuilding wheels for collected packages: pickle5\n",
            "  Building wheel for pickle5 (setup.py) ... \u001b[?25l\u001b[?25hdone\n",
            "  Created wheel for pickle5: filename=pickle5-0.0.11-cp37-cp37m-linux_x86_64.whl size=219263 sha256=e45523a04cbca7cc0d3f3580a0a26e965cacb0da2449b710632a1dd69ef39976\n",
            "  Stored in directory: /root/.cache/pip/wheels/a6/90/95/f889ca4aa8b0e0c7f21c8470b6f5d6032f0390a3a141a9a3bd\n",
            "Successfully built pickle5\n",
            "Installing collected packages: pickle5\n",
            "Successfully installed pickle5-0.0.11\n"
          ],
          "name": "stdout"
        }
      ]
    },
    {
      "cell_type": "code",
      "metadata": {
        "id": "1xi_DLN4yw8t"
      },
      "source": [
        "import pickle5\r\n",
        "from math import sqrt\r\n",
        "from datetime import datetime\r\n",
        "from numpy import concatenate\r\n",
        "from matplotlib import pyplot\r\n",
        "from pandas import read_csv\r\n",
        "from pandas import DataFrame\r\n",
        "from pandas import concat\r\n",
        "from sklearn.preprocessing import MinMaxScaler\r\n",
        "from sklearn.preprocessing import LabelEncoder\r\n",
        "from sklearn.metrics import mean_squared_error\r\n",
        "import torch\r\n",
        "import torch.nn as nn\r\n",
        "import torch.nn.functional as F\r\n",
        "import torch.optim as optim\r\n",
        "from array import array\r\n",
        "import numpy as np"
      ],
      "execution_count": null,
      "outputs": []
    },
    {
      "cell_type": "code",
      "metadata": {
        "id": "E1Sd0rvvyw6E"
      },
      "source": [
        "with open('/content/20210101-epias-raw.pkl', 'rb') as f:\r\n",
        "    data = pickle5.load(f)"
      ],
      "execution_count": null,
      "outputs": []
    },
    {
      "cell_type": "code",
      "metadata": {
        "id": "bPo-fgKIXaPG"
      },
      "source": [
        "new_data = data['naturalGas']"
      ],
      "execution_count": null,
      "outputs": []
    },
    {
      "cell_type": "code",
      "metadata": {
        "colab": {
          "base_uri": "https://localhost:8080/"
        },
        "id": "qyg8MBPhXfNz",
        "outputId": "a5f13609-f06d-49d1-d178-4a90421c3ce3"
      },
      "source": [
        "new_data"
      ],
      "execution_count": null,
      "outputs": [
        {
          "output_type": "execute_result",
          "data": {
            "text/plain": [
              "0        2326.01\n",
              "1        2334.78\n",
              "2        2157.76\n",
              "3        2084.72\n",
              "4        2034.68\n",
              "          ...   \n",
              "67263    8912.15\n",
              "67264    9068.42\n",
              "67265    9164.25\n",
              "67266    9240.85\n",
              "67267    9189.95\n",
              "Name: naturalGas, Length: 67268, dtype: float64"
            ]
          },
          "metadata": {
            "tags": []
          },
          "execution_count": 8
        }
      ]
    },
    {
      "cell_type": "code",
      "metadata": {
        "id": "xjqNx33Ey-mY"
      },
      "source": [
        "data = new_data.to_numpy()"
      ],
      "execution_count": null,
      "outputs": []
    },
    {
      "cell_type": "code",
      "metadata": {
        "colab": {
          "base_uri": "https://localhost:8080/"
        },
        "id": "5qqY9nUXXwcr",
        "outputId": "f134fc77-310e-47dc-abe2-ada02021bfd5"
      },
      "source": [
        "data"
      ],
      "execution_count": null,
      "outputs": [
        {
          "output_type": "execute_result",
          "data": {
            "text/plain": [
              "array([2326.01, 2334.78, 2157.76, ..., 9164.25, 9240.85, 9189.95])"
            ]
          },
          "metadata": {
            "tags": []
          },
          "execution_count": 137
        }
      ]
    },
    {
      "cell_type": "code",
      "metadata": {
        "id": "3dN3yYcptu7K"
      },
      "source": [
        "# convert history into inputs and outputs\r\n",
        "def to_supervised(train, n_input, n_out):\r\n",
        "\t# flatten data\r\n",
        "  print(\"train.shape: \" + str(train.shape))\r\n",
        "  #data = train.reshape((train.shape[0]*train.shape[1], train.shape[2]))\r\n",
        "  data = np.expand_dims(train, axis=1)\r\n",
        "  print(len(data))\r\n",
        "\r\n",
        "  X, y = list(), list()\r\n",
        "  in_start = 0\r\n",
        "\t# step over the entire history one time step at a time\r\n",
        "  for _ in range(len(data)):\r\n",
        "\t\t# define the end of the input sequence\r\n",
        "    in_end = in_start + n_input\r\n",
        "    out_end = in_end + n_out\r\n",
        "\t\t# ensure we have enough data for this instance\r\n",
        "    if out_end <= len(data):\r\n",
        "      x_input = data[in_start:in_end]\r\n",
        "      x_input = x_input.reshape((len(x_input), 1))\r\n",
        "      X.append(x_input)\r\n",
        "      y.append(data[in_end:out_end])\r\n",
        "\t\t# move along one time step\r\n",
        "    in_start += 1\r\n",
        "\r\n",
        "  return np.array(X), np.array(y)"
      ],
      "execution_count": null,
      "outputs": []
    },
    {
      "cell_type": "code",
      "metadata": {
        "colab": {
          "base_uri": "https://localhost:8080/"
        },
        "id": "HXBwNWIltxew",
        "outputId": "eed24525-8f17-42e2-cdae-3b9ff9e2dece"
      },
      "source": [
        "train_X, train_y = to_supervised(data[0:42000], 3, 1)\r\n",
        "val_X, val_y = to_supervised(data[42000:54000], 3, 1)\r\n",
        "test_X, test_y = to_supervised(data[54000:60068], 3, 1)"
      ],
      "execution_count": null,
      "outputs": [
        {
          "output_type": "stream",
          "text": [
            "train.shape: (42000,)\n",
            "42000\n",
            "train.shape: (12000,)\n",
            "12000\n",
            "train.shape: (6068,)\n",
            "6068\n"
          ],
          "name": "stdout"
        }
      ]
    },
    {
      "cell_type": "code",
      "metadata": {
        "colab": {
          "base_uri": "https://localhost:8080/"
        },
        "id": "KUw_T0Mx_EWD",
        "outputId": "00ec9473-9693-4801-a785-95c5fd870318"
      },
      "source": [
        "train_Y.shape"
      ],
      "execution_count": null,
      "outputs": [
        {
          "output_type": "execute_result",
          "data": {
            "text/plain": [
              "(41997, 1, 1)"
            ]
          },
          "metadata": {
            "tags": []
          },
          "execution_count": 140
        }
      ]
    },
    {
      "cell_type": "code",
      "metadata": {
        "colab": {
          "base_uri": "https://localhost:8080/"
        },
        "id": "sQnv93De_z65",
        "outputId": "f8de2580-6837-454a-8aea-32c01d45199d"
      },
      "source": [
        "train_X[0]"
      ],
      "execution_count": null,
      "outputs": [
        {
          "output_type": "execute_result",
          "data": {
            "text/plain": [
              "array([[2326.01],\n",
              "       [2334.78],\n",
              "       [2157.76]])"
            ]
          },
          "metadata": {
            "tags": []
          },
          "execution_count": 141
        }
      ]
    },
    {
      "cell_type": "code",
      "metadata": {
        "colab": {
          "base_uri": "https://localhost:8080/"
        },
        "id": "DgrLl5gVHW6w",
        "outputId": "8689efcd-cae7-45ae-e1dd-f09e813df957"
      },
      "source": [
        "train_X[1]"
      ],
      "execution_count": null,
      "outputs": [
        {
          "output_type": "execute_result",
          "data": {
            "text/plain": [
              "array([[2334.78],\n",
              "       [2157.76],\n",
              "       [2084.72]])"
            ]
          },
          "metadata": {
            "tags": []
          },
          "execution_count": 142
        }
      ]
    },
    {
      "cell_type": "code",
      "metadata": {
        "colab": {
          "base_uri": "https://localhost:8080/"
        },
        "id": "7BRcBoj-HUXP",
        "outputId": "048e3db1-f390-47c4-f122-4cf47d38135d"
      },
      "source": [
        "train_y[0]"
      ],
      "execution_count": null,
      "outputs": [
        {
          "output_type": "execute_result",
          "data": {
            "text/plain": [
              "array([[2084.72]])"
            ]
          },
          "metadata": {
            "tags": []
          },
          "execution_count": 143
        }
      ]
    },
    {
      "cell_type": "code",
      "metadata": {
        "id": "x5p8mj_4zCpl"
      },
      "source": [
        "class LSTM(nn.Module):\r\n",
        "\r\n",
        "  def __init__(self):\r\n",
        "    super(LSTM, self).__init__()\r\n",
        "\r\n",
        "    self.lstm = nn.LSTM(input_size=3, hidden_size=100, num_layers=2)\r\n",
        "    self.FC = nn.Linear(100, 1)\r\n",
        "\r\n",
        "  def forward(self, input):\r\n",
        "    pred, _ = self.lstm(input)\r\n",
        "\r\n",
        "    pred = self.FC(pred.view(100))\r\n",
        "\r\n",
        "    return pred"
      ],
      "execution_count": null,
      "outputs": []
    },
    {
      "cell_type": "code",
      "metadata": {
        "id": "isXFOKHxzCnC"
      },
      "source": [
        "model = LSTM().to(device)"
      ],
      "execution_count": null,
      "outputs": []
    },
    {
      "cell_type": "code",
      "metadata": {
        "colab": {
          "base_uri": "https://localhost:8080/"
        },
        "id": "2I_ad6g8zJwQ",
        "outputId": "1aa6bce4-e854-4713-8cf5-62adf4e9c4cd"
      },
      "source": [
        "sum(p.numel() for p in model.parameters())"
      ],
      "execution_count": null,
      "outputs": [
        {
          "output_type": "execute_result",
          "data": {
            "text/plain": [
              "122901"
            ]
          },
          "metadata": {
            "tags": []
          },
          "execution_count": 146
        }
      ]
    },
    {
      "cell_type": "code",
      "metadata": {
        "id": "q4yy4iKkzJtl"
      },
      "source": [
        "loss_function = nn.L1Loss()\r\n",
        "optimizer = optim.Adam(model.parameters(), lr=1e-5)"
      ],
      "execution_count": null,
      "outputs": []
    },
    {
      "cell_type": "code",
      "metadata": {
        "id": "RCUE2DwvzJqp"
      },
      "source": [
        "train_loss_hist = []\r\n",
        "test_loss_hist = []"
      ],
      "execution_count": null,
      "outputs": []
    },
    {
      "cell_type": "code",
      "metadata": {
        "colab": {
          "background_save": true,
          "base_uri": "https://localhost:8080/"
        },
        "id": "fWVxKZ7jzJns",
        "outputId": "2dfa7abc-d964-4c98-d6dd-9e0fc2b1c486"
      },
      "source": [
        "for epoch in range(50):\r\n",
        "  train_loss = 0.0\r\n",
        "  test_loss = 0.0\r\n",
        "\r\n",
        "  for i in range(train_X.shape[0]):\r\n",
        "    data = torch.Tensor(train_X[i]).unsqueeze(0).unsqueeze(0).squeeze(3)\r\n",
        "    data = data.to(device)\r\n",
        "\r\n",
        "    optimizer.zero_grad()\r\n",
        "\r\n",
        "    prediction = model(data)\r\n",
        "\r\n",
        "    #print(\"Train --- prediction: \" + str(prediction) + \" , GT: \" + str(train_y[i]))\r\n",
        "\r\n",
        "    loss = loss_function(prediction, torch.Tensor([train_y[i]]).to(device))\r\n",
        "\r\n",
        "    train_loss += loss.item()\r\n",
        "\r\n",
        "    loss.backward()\r\n",
        "    optimizer.step()\r\n",
        "\r\n",
        "  with torch.no_grad():\r\n",
        "    for i in range(test_X.shape[0]):\r\n",
        "      data = torch.Tensor(test_X[i]).unsqueeze(0).unsqueeze(0).squeeze(3)\r\n",
        "      data = data.to(device)\r\n",
        "\r\n",
        "      prediction = model(data)\r\n",
        "\r\n",
        "      #print(\"Validate --- prediction: \" + str(prediction) + \" , GT: \" + str(test_y[i]))\r\n",
        "\r\n",
        "      loss = loss_function(prediction, torch.Tensor([test_y[i]]).to(device))\r\n",
        "      test_loss += loss.item()\r\n",
        "\r\n",
        "  train_loss = train_loss / train_X.shape[0]\r\n",
        "  test_loss = test_loss / test_X.shape[0]\r\n",
        "\r\n",
        "  train_loss_hist.append(train_loss)\r\n",
        "  test_loss_hist.append(test_loss)\r\n",
        "\r\n",
        "  print(\"Train loss: \" +  str(train_loss) + \" --- Test loss: \" + str(test_loss))\r\n"
      ],
      "execution_count": null,
      "outputs": [
        {
          "output_type": "stream",
          "text": [
            "/usr/local/lib/python3.7/dist-packages/torch/nn/modules/loss.py:94: UserWarning: Using a target size (torch.Size([1, 1, 1])) that is different to the input size (torch.Size([1])). This will likely lead to incorrect results due to broadcasting. Please ensure they have the same size.\n",
            "  return F.l1_loss(input, target, reduction=self.reduction)\n"
          ],
          "name": "stderr"
        },
        {
          "output_type": "stream",
          "text": [
            "Train loss: 11661.988880067922 --- Test loss: 7469.457218733093\n",
            "Train loss: 11627.925441135818 --- Test loss: 7436.965918723513\n",
            "Train loss: 11595.473437894068 --- Test loss: 7404.519937201718\n",
            "Train loss: 11563.03070765427 --- Test loss: 7372.074350974389\n",
            "Train loss: 11530.588253250593 --- Test loss: 7339.628613341631\n",
            "Train loss: 11498.145844735733 --- Test loss: 7307.18305929739\n",
            "Train loss: 11465.703417690656 --- Test loss: 7274.73768060972\n",
            "Train loss: 11433.260981272382 --- Test loss: 7242.292101748876\n",
            "Train loss: 11400.818541702942 --- Test loss: 7209.846380761155\n",
            "Train loss: 11368.376081912345 --- Test loss: 7177.400805201141\n",
            "Train loss: 11335.933530699087 --- Test loss: 7144.955336822484\n",
            "Train loss: 11303.49092650716 --- Test loss: 7112.509410192076\n",
            "Train loss: 11271.048253226496 --- Test loss: 7080.063819964504\n",
            "Train loss: 11238.605658100392 --- Test loss: 7047.6181952291745\n",
            "Train loss: 11206.163062493239 --- Test loss: 7015.172256572878\n",
            "Train loss: 11173.720464437965 --- Test loss: 6982.72678264923\n",
            "Train loss: 11141.277865876209 --- Test loss: 6950.280928601849\n",
            "Train loss: 11108.835265212221 --- Test loss: 6917.835309758701\n",
            "Train loss: 11076.40499831496 --- Test loss: 6885.554910326122\n",
            "Train loss: 11044.883169790448 --- Test loss: 6854.648917790827\n",
            "Train loss: 11013.984398206643 --- Test loss: 6823.747439723632\n",
            "Train loss: 10983.08733712448 --- Test loss: 6792.846056323826\n",
            "Train loss: 10952.190275735667 --- Test loss: 6761.944688009214\n",
            "Train loss: 10921.293212599961 --- Test loss: 6731.043194927269\n",
            "Train loss: 10890.39614704302 --- Test loss: 6700.141630404504\n",
            "Train loss: 10859.499082145889 --- Test loss: 6669.240245988284\n",
            "Train loss: 10828.602017918736 --- Test loss: 6638.3445420179505\n",
            "Train loss: 10797.70494990859 --- Test loss: 6607.466425732945\n",
            "Train loss: 10766.807880798277 --- Test loss: 6576.631613715188\n",
            "Train loss: 10735.910812872422 --- Test loss: 6545.832208528699\n",
            "Train loss: 10705.013743991734 --- Test loss: 6515.043707381057\n",
            "Train loss: 10674.116676227199 --- Test loss: 6484.28277531535\n",
            "Train loss: 10643.21960711398 --- Test loss: 6453.533966904756\n",
            "Train loss: 10612.32443327774 --- Test loss: 6422.785917071085\n",
            "Train loss: 10581.429489423863 --- Test loss: 6392.059745357102\n",
            "Train loss: 10550.534551769857 --- Test loss: 6361.342159785108\n",
            "Train loss: 10519.639613525804 --- Test loss: 6330.639249741569\n",
            "Train loss: 10488.744676037477 --- Test loss: 6299.955733218904\n",
            "Train loss: 10457.849733043966 --- Test loss: 6269.3001530457805\n",
            "Train loss: 10426.95454682833 --- Test loss: 6238.7386908346425\n",
            "Train loss: 10396.059312464144 --- Test loss: 6208.264656085764\n",
            "Train loss: 10365.164074190521 --- Test loss: 6177.854606025866\n",
            "Train loss: 10334.268839233378 --- Test loss: 6147.50455908968\n",
            "Train loss: 10303.373606892215 --- Test loss: 6117.190445104789\n",
            "Train loss: 10272.478370458497 --- Test loss: 6086.908749170767\n",
            "Train loss: 10241.58313535893 --- Test loss: 6056.6388761641465\n",
            "Train loss: 10210.68790077965 --- Test loss: 6026.4122932956125\n",
            "Train loss: 10179.792663133861 --- Test loss: 5996.2038634398505\n",
            "Train loss: 10148.897430263689 --- Test loss: 5966.0216750381605\n",
            "Train loss: 10118.00219188252 --- Test loss: 5935.845523511567\n"
          ],
          "name": "stdout"
        }
      ]
    },
    {
      "cell_type": "code",
      "metadata": {
        "id": "CFj_pQed_BdK"
      },
      "source": [
        ""
      ],
      "execution_count": null,
      "outputs": []
    }
  ]
}